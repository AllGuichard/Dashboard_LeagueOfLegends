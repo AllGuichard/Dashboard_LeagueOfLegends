{
 "cells": [
  {
   "cell_type": "markdown",
   "metadata": {},
   "source": [
    "# Scrapping du site OPGG League of Legends"
   ]
  },
  {
   "cell_type": "code",
   "execution_count": 2,
   "metadata": {},
   "outputs": [],
   "source": [
    "from requests import get\n",
    "from dataclasses import dataclass\n",
    "from bs4 import BeautifulSoup\n",
    "from serde.json import to_json, from_json\n",
    "import re\n",
    "from rich import print\n",
    "import pandas as pd\n",
    "import numpy as np"
   ]
  },
  {
   "cell_type": "markdown",
   "metadata": {},
   "source": [
    "## Classement Winrate par Perso en ligue Iron"
   ]
  },
  {
   "cell_type": "code",
   "execution_count": 2,
   "metadata": {},
   "outputs": [],
   "source": [
    "with open(\"backup_stat_iron.html\", 'rb') as fichier: \n",
    "    soupe = BeautifulSoup(fichier, \"lxml\")"
   ]
  },
  {
   "cell_type": "code",
   "execution_count": 3,
   "metadata": {},
   "outputs": [],
   "source": [
    "texte = soupe.text"
   ]
  },
  {
   "cell_type": "code",
   "execution_count": 4,
   "metadata": {},
   "outputs": [],
   "source": [
    "ma_table = soupe.find(\"table\", attrs = {\"class\": \"css-1hhfha5 e1tq06rp1\"})"
   ]
  },
  {
   "cell_type": "code",
   "execution_count": 5,
   "metadata": {},
   "outputs": [],
   "source": [
    "lignes = ma_table.tbody.find_all(\"tr\")\n"
   ]
  },
  {
   "cell_type": "code",
   "execution_count": 3,
   "metadata": {},
   "outputs": [],
   "source": [
    "@dataclass\n",
    "class Winrate:\n",
    "    def __init__(self, rank, champion, winrate, nb_game, kd_rate, nb_kill_mobs, gold):\n",
    "        self.rank, self.champion, self.winrate, self.nb_game, self.kd_rate, self.nb_kill_mobs, self.gold = rank, champion, winrate, nb_game, kd_rate, nb_kill_mobs, gold\n",
    "        \n",
    "    rank: str\n",
    "    champion: str\n",
    "    winrate: str\n",
    "    nb_game: int\n",
    "    kd_rate: float\n",
    "    nb_kill_mobs: float\n",
    "    gold: int"
   ]
  },
  {
   "cell_type": "code",
   "execution_count": 7,
   "metadata": {},
   "outputs": [],
   "source": [
    "resultat_iron = list()\n",
    "for ligne in lignes:\n",
    "    rank, image, champion, winrate, nb_game, kd_rate, nb_kill_mobs, gold = ligne.find_all(\"td\")\n",
    "    rank, *_ = rank.strings\n",
    "    champion, *_ = champion.strings\n",
    "    winrate, *_ = winrate.strings\n",
    "    nb_game, = nb_game.strings\n",
    "    kd_rate, *_ = kd_rate.strings\n",
    "    nb_kill_mobs, *_ = nb_kill_mobs.strings\n",
    "    gold, *_ = gold.strings\n",
    "\n",
    "    resultat_iron.append(\n",
    "        Winrate(\n",
    "            rank,\n",
    "            champion,\n",
    "            winrate,\n",
    "            int(nb_game.replace(\"\\u202f\", \"\")),\n",
    "            float(kd_rate),\n",
    "            float(nb_kill_mobs),\n",
    "            int(gold.replace(\"\\u202f\", \"\"))\n",
    "        )\n",
    "    )"
   ]
  },
  {
   "cell_type": "code",
   "execution_count": 9,
   "metadata": {},
   "outputs": [],
   "source": [
    "df_iron = pd.DataFrame([result.__dict__ for result in resultat_iron])"
   ]
  },
  {
   "cell_type": "code",
   "execution_count": 11,
   "metadata": {},
   "outputs": [],
   "source": [
    "df_iron.to_csv(\"stat_iron.csv\")"
   ]
  },
  {
   "cell_type": "markdown",
   "metadata": {},
   "source": [
    "## Classement Winrate par Perso en ligue Bronze"
   ]
  },
  {
   "cell_type": "code",
   "execution_count": 12,
   "metadata": {},
   "outputs": [],
   "source": [
    "with open(\"backup_stat_bronze.html\", 'rb') as fichier: \n",
    "    soupe = BeautifulSoup(fichier, \"lxml\")"
   ]
  },
  {
   "cell_type": "code",
   "execution_count": 13,
   "metadata": {},
   "outputs": [],
   "source": [
    "texte = soupe.text"
   ]
  },
  {
   "cell_type": "code",
   "execution_count": 14,
   "metadata": {},
   "outputs": [],
   "source": [
    "ma_table = soupe.find(\"table\", attrs = {\"class\": \"css-1hhfha5 e1tq06rp1\"})"
   ]
  },
  {
   "cell_type": "code",
   "execution_count": 15,
   "metadata": {},
   "outputs": [],
   "source": [
    "lignes = ma_table.tbody.find_all(\"tr\")"
   ]
  },
  {
   "cell_type": "code",
   "execution_count": 17,
   "metadata": {},
   "outputs": [],
   "source": [
    "resultat_bronze = list()\n",
    "for ligne in lignes:\n",
    "    rank, image, champion, winrate, nb_game, kd_rate, nb_kill_mobs, gold = ligne.find_all(\"td\")\n",
    "    rank, *_ = rank.strings\n",
    "    champion, *_ = champion.strings\n",
    "    winrate, *_ = winrate.strings\n",
    "    nb_game, = nb_game.strings\n",
    "    kd_rate, *_ = kd_rate.strings\n",
    "    nb_kill_mobs, *_ = nb_kill_mobs.strings\n",
    "    gold, *_ = gold.strings\n",
    "\n",
    "    resultat_bronze.append(\n",
    "        Winrate(\n",
    "            rank,\n",
    "            champion,\n",
    "            winrate,\n",
    "            int(nb_game.replace(\"\\u202f\", \"\")),\n",
    "            float(kd_rate),\n",
    "            float(nb_kill_mobs),\n",
    "            int(gold.replace(\"\\u202f\", \"\"))\n",
    "        )\n",
    "    )"
   ]
  },
  {
   "cell_type": "code",
   "execution_count": 18,
   "metadata": {},
   "outputs": [],
   "source": [
    "df_bronze = pd.DataFrame([result.__dict__ for result in resultat_bronze])"
   ]
  },
  {
   "cell_type": "code",
   "execution_count": 19,
   "metadata": {},
   "outputs": [],
   "source": [
    "df_bronze.to_csv(\"stat_bronze.csv\")"
   ]
  },
  {
   "cell_type": "markdown",
   "metadata": {},
   "source": [
    "## Classement Winrate par Perso en ligue Silver"
   ]
  },
  {
   "cell_type": "code",
   "execution_count": 20,
   "metadata": {},
   "outputs": [],
   "source": [
    "with open(\"backup_stat_silver.html\", 'rb') as fichier: \n",
    "    soupe = BeautifulSoup(fichier, \"lxml\")"
   ]
  },
  {
   "cell_type": "code",
   "execution_count": 21,
   "metadata": {},
   "outputs": [],
   "source": [
    "texte = soupe.text"
   ]
  },
  {
   "cell_type": "code",
   "execution_count": 22,
   "metadata": {},
   "outputs": [],
   "source": [
    "ma_table = soupe.find(\"table\", attrs = {\"class\": \"css-1hhfha5 e1tq06rp1\"})"
   ]
  },
  {
   "cell_type": "code",
   "execution_count": 23,
   "metadata": {},
   "outputs": [],
   "source": [
    "lignes = ma_table.tbody.find_all(\"tr\")"
   ]
  },
  {
   "cell_type": "code",
   "execution_count": 24,
   "metadata": {},
   "outputs": [],
   "source": [
    "resultat_silver = list()\n",
    "for ligne in lignes:\n",
    "    rank, image, champion, winrate, nb_game, kd_rate, nb_kill_mobs, gold = ligne.find_all(\"td\")\n",
    "    rank, *_ = rank.strings\n",
    "    champion, *_ = champion.strings\n",
    "    winrate, *_ = winrate.strings\n",
    "    nb_game, = nb_game.strings\n",
    "    kd_rate, *_ = kd_rate.strings\n",
    "    nb_kill_mobs, *_ = nb_kill_mobs.strings\n",
    "    gold, *_ = gold.strings\n",
    "\n",
    "    resultat_silver.append(\n",
    "        Winrate(\n",
    "            rank,\n",
    "            champion,\n",
    "            winrate,\n",
    "            int(nb_game.replace(\"\\u202f\", \"\")),\n",
    "            float(kd_rate),\n",
    "            float(nb_kill_mobs),\n",
    "            int(gold.replace(\"\\u202f\", \"\"))\n",
    "        )\n",
    "    )"
   ]
  },
  {
   "cell_type": "code",
   "execution_count": 25,
   "metadata": {},
   "outputs": [],
   "source": [
    "df_silver = pd.DataFrame([result.__dict__ for result in resultat_silver])"
   ]
  },
  {
   "cell_type": "code",
   "execution_count": 26,
   "metadata": {},
   "outputs": [],
   "source": [
    "df_silver.to_csv(\"stat_silver.csv\")"
   ]
  },
  {
   "cell_type": "markdown",
   "metadata": {},
   "source": [
    "## Classement Winrate par Perso en ligue Gold"
   ]
  },
  {
   "cell_type": "code",
   "execution_count": 27,
   "metadata": {},
   "outputs": [],
   "source": [
    "with open(\"backup_stat_gold.html\", 'rb') as fichier: \n",
    "    soupe = BeautifulSoup(fichier, \"lxml\")"
   ]
  },
  {
   "cell_type": "code",
   "execution_count": 28,
   "metadata": {},
   "outputs": [],
   "source": [
    "texte = soupe.text"
   ]
  },
  {
   "cell_type": "code",
   "execution_count": 29,
   "metadata": {},
   "outputs": [],
   "source": [
    "ma_table = soupe.find(\"table\", attrs = {\"class\": \"css-1hhfha5 e1tq06rp1\"})"
   ]
  },
  {
   "cell_type": "code",
   "execution_count": 30,
   "metadata": {},
   "outputs": [],
   "source": [
    "lignes = ma_table.tbody.find_all(\"tr\")"
   ]
  },
  {
   "cell_type": "code",
   "execution_count": 31,
   "metadata": {},
   "outputs": [],
   "source": [
    "resultat_gold = list()\n",
    "for ligne in lignes:\n",
    "    rank, image, champion, winrate, nb_game, kd_rate, nb_kill_mobs, gold = ligne.find_all(\"td\")\n",
    "    rank, *_ = rank.strings\n",
    "    champion, *_ = champion.strings\n",
    "    winrate, *_ = winrate.strings\n",
    "    nb_game, = nb_game.strings\n",
    "    kd_rate, *_ = kd_rate.strings\n",
    "    nb_kill_mobs, *_ = nb_kill_mobs.strings\n",
    "    gold, *_ = gold.strings\n",
    "\n",
    "    resultat_gold.append(\n",
    "        Winrate(\n",
    "            rank,\n",
    "            champion,\n",
    "            winrate,\n",
    "            int(nb_game.replace(\"\\u202f\", \"\")),\n",
    "            float(kd_rate),\n",
    "            float(nb_kill_mobs),\n",
    "            int(gold.replace(\"\\u202f\", \"\"))\n",
    "        )\n",
    "    )"
   ]
  },
  {
   "cell_type": "code",
   "execution_count": 32,
   "metadata": {},
   "outputs": [],
   "source": [
    "df_gold = pd.DataFrame([result.__dict__ for result in resultat_gold])"
   ]
  },
  {
   "cell_type": "code",
   "execution_count": 33,
   "metadata": {},
   "outputs": [],
   "source": [
    "df_gold.to_csv(\"stat_gold.csv\")"
   ]
  },
  {
   "cell_type": "markdown",
   "metadata": {},
   "source": [
    "## Classement Winrate par Perso en ligue Platine"
   ]
  },
  {
   "cell_type": "code",
   "execution_count": 34,
   "metadata": {},
   "outputs": [],
   "source": [
    "with open(\"backup_stat_platinium.html\", 'rb') as fichier: \n",
    "    soupe = BeautifulSoup(fichier, \"lxml\")"
   ]
  },
  {
   "cell_type": "code",
   "execution_count": 35,
   "metadata": {},
   "outputs": [],
   "source": [
    "texte = soupe.text"
   ]
  },
  {
   "cell_type": "code",
   "execution_count": 36,
   "metadata": {},
   "outputs": [],
   "source": [
    "ma_table = soupe.find(\"table\", attrs = {\"class\": \"css-1hhfha5 e1tq06rp1\"})"
   ]
  },
  {
   "cell_type": "code",
   "execution_count": 37,
   "metadata": {},
   "outputs": [],
   "source": [
    "lignes = ma_table.tbody.find_all(\"tr\")"
   ]
  },
  {
   "cell_type": "code",
   "execution_count": 38,
   "metadata": {},
   "outputs": [],
   "source": [
    "resultat_platine = list()\n",
    "for ligne in lignes:\n",
    "    rank, image, champion, winrate, nb_game, kd_rate, nb_kill_mobs, gold = ligne.find_all(\"td\")\n",
    "    rank, *_ = rank.strings\n",
    "    champion, *_ = champion.strings\n",
    "    winrate, *_ = winrate.strings\n",
    "    nb_game, = nb_game.strings\n",
    "    kd_rate, *_ = kd_rate.strings\n",
    "    nb_kill_mobs, *_ = nb_kill_mobs.strings\n",
    "    gold, *_ = gold.strings\n",
    "\n",
    "    resultat_platine.append(\n",
    "        Winrate(\n",
    "            rank,\n",
    "            champion,\n",
    "            winrate,\n",
    "            int(nb_game.replace(\"\\u202f\", \"\")),\n",
    "            float(kd_rate),\n",
    "            float(nb_kill_mobs),\n",
    "            int(gold.replace(\"\\u202f\", \"\"))\n",
    "        )\n",
    "    )"
   ]
  },
  {
   "cell_type": "code",
   "execution_count": 40,
   "metadata": {},
   "outputs": [],
   "source": [
    "df_platinium = pd.DataFrame([result.__dict__ for result in resultat_platine])"
   ]
  },
  {
   "cell_type": "code",
   "execution_count": 41,
   "metadata": {},
   "outputs": [],
   "source": [
    "df_platinium.to_csv(\"stat_platinium.csv\")"
   ]
  },
  {
   "cell_type": "markdown",
   "metadata": {},
   "source": [
    "## Classement Winrate par Perso en ligue Diamond"
   ]
  },
  {
   "cell_type": "code",
   "execution_count": 42,
   "metadata": {},
   "outputs": [],
   "source": [
    "with open(\"backup_stat_diamond.html\", 'rb') as fichier: \n",
    "    soupe = BeautifulSoup(fichier, \"lxml\")"
   ]
  },
  {
   "cell_type": "code",
   "execution_count": 43,
   "metadata": {},
   "outputs": [],
   "source": [
    "texte = soupe.text"
   ]
  },
  {
   "cell_type": "code",
   "execution_count": 44,
   "metadata": {},
   "outputs": [],
   "source": [
    "ma_table = soupe.find(\"table\", attrs = {\"class\": \"css-1hhfha5 e1tq06rp1\"})"
   ]
  },
  {
   "cell_type": "code",
   "execution_count": 45,
   "metadata": {},
   "outputs": [],
   "source": [
    "lignes = ma_table.tbody.find_all(\"tr\")"
   ]
  },
  {
   "cell_type": "code",
   "execution_count": 46,
   "metadata": {},
   "outputs": [],
   "source": [
    "resultat_diamond = list()\n",
    "for ligne in lignes:\n",
    "    rank, image, champion, winrate, nb_game, kd_rate, nb_kill_mobs, gold = ligne.find_all(\"td\")\n",
    "    rank, *_ = rank.strings\n",
    "    champion, *_ = champion.strings\n",
    "    winrate, *_ = winrate.strings\n",
    "    nb_game, = nb_game.strings\n",
    "    kd_rate, *_ = kd_rate.strings\n",
    "    nb_kill_mobs, *_ = nb_kill_mobs.strings\n",
    "    gold, *_ = gold.strings\n",
    "\n",
    "    resultat_diamond.append(\n",
    "        Winrate(\n",
    "            rank,\n",
    "            champion,\n",
    "            winrate,\n",
    "            int(nb_game.replace(\"\\u202f\", \"\")),\n",
    "            float(kd_rate),\n",
    "            float(nb_kill_mobs),\n",
    "            int(gold.replace(\"\\u202f\", \"\"))\n",
    "        )\n",
    "    )"
   ]
  },
  {
   "cell_type": "code",
   "execution_count": 47,
   "metadata": {},
   "outputs": [],
   "source": [
    "df_diamond = pd.DataFrame([result.__dict__ for result in resultat_diamond])"
   ]
  },
  {
   "cell_type": "code",
   "execution_count": 48,
   "metadata": {},
   "outputs": [],
   "source": [
    "df_diamond.to_csv(\"stat_diamond.csv\")"
   ]
  },
  {
   "cell_type": "markdown",
   "metadata": {},
   "source": [
    "## Classement Winrate par Perso en ligue Master"
   ]
  },
  {
   "cell_type": "code",
   "execution_count": 4,
   "metadata": {},
   "outputs": [],
   "source": [
    "with open(\"backup_stat_master.html\", 'rb') as fichier: \n",
    "    soupe = BeautifulSoup(fichier, \"lxml\")"
   ]
  },
  {
   "cell_type": "code",
   "execution_count": 5,
   "metadata": {},
   "outputs": [],
   "source": [
    "texte = soupe.text"
   ]
  },
  {
   "cell_type": "code",
   "execution_count": 6,
   "metadata": {},
   "outputs": [],
   "source": [
    "ma_table = soupe.find(\"table\", attrs = {\"class\": \"css-1hhfha5 e1tq06rp1\"})"
   ]
  },
  {
   "cell_type": "code",
   "execution_count": 7,
   "metadata": {},
   "outputs": [],
   "source": [
    "lignes = ma_table.tbody.find_all(\"tr\")"
   ]
  },
  {
   "cell_type": "code",
   "execution_count": 8,
   "metadata": {},
   "outputs": [],
   "source": [
    "resultat_master = list()\n",
    "for ligne in lignes:\n",
    "    rank, image, champion, winrate, nb_game, kd_rate, nb_kill_mobs, gold = ligne.find_all(\"td\")\n",
    "    rank, *_ = rank.strings\n",
    "    champion, *_ = champion.strings\n",
    "    winrate, *_ = winrate.strings\n",
    "    nb_game, = nb_game.strings\n",
    "    kd_rate, *_ = kd_rate.strings\n",
    "    nb_kill_mobs, *_ = nb_kill_mobs.strings\n",
    "    gold, *_ = gold.strings\n",
    "\n",
    "    resultat_master.append(\n",
    "        Winrate(\n",
    "            rank,\n",
    "            champion,\n",
    "            winrate,\n",
    "            int(nb_game.replace(\"\\u202f\", \"\")),\n",
    "            float(kd_rate),\n",
    "            float(nb_kill_mobs),\n",
    "            int(gold.replace(\"\\u202f\", \"\"))\n",
    "        )\n",
    "    )"
   ]
  },
  {
   "cell_type": "code",
   "execution_count": 9,
   "metadata": {},
   "outputs": [],
   "source": [
    "df_master = pd.DataFrame([result.__dict__ for result in resultat_master])"
   ]
  },
  {
   "cell_type": "code",
   "execution_count": 10,
   "metadata": {},
   "outputs": [],
   "source": [
    "df_master.to_csv(\"stat_master.csv\")"
   ]
  },
  {
   "cell_type": "markdown",
   "metadata": {},
   "source": [
    "## Classement Winrate par Perso en ligue Grandmaster"
   ]
  },
  {
   "cell_type": "code",
   "execution_count": 11,
   "metadata": {},
   "outputs": [],
   "source": [
    "with open(\"backup_stat_grandmaster.html\", 'rb') as fichier: \n",
    "    soupe = BeautifulSoup(fichier, \"lxml\")"
   ]
  },
  {
   "cell_type": "code",
   "execution_count": 12,
   "metadata": {},
   "outputs": [],
   "source": [
    "texte = soupe.text"
   ]
  },
  {
   "cell_type": "code",
   "execution_count": 13,
   "metadata": {},
   "outputs": [],
   "source": [
    "ma_table = soupe.find(\"table\", attrs = {\"class\": \"css-1hhfha5 e1tq06rp1\"})"
   ]
  },
  {
   "cell_type": "code",
   "execution_count": 14,
   "metadata": {},
   "outputs": [],
   "source": [
    "lignes = ma_table.tbody.find_all(\"tr\")"
   ]
  },
  {
   "cell_type": "code",
   "execution_count": 15,
   "metadata": {},
   "outputs": [],
   "source": [
    "resultat_grandmaster = list()\n",
    "for ligne in lignes:\n",
    "    rank, image, champion, winrate, nb_game, kd_rate, nb_kill_mobs, gold = ligne.find_all(\"td\")\n",
    "    rank, *_ = rank.strings\n",
    "    champion, *_ = champion.strings\n",
    "    winrate, *_ = winrate.strings\n",
    "    nb_game, = nb_game.strings\n",
    "    kd_rate, *_ = kd_rate.strings\n",
    "    nb_kill_mobs, *_ = nb_kill_mobs.strings\n",
    "    gold, *_ = gold.strings\n",
    "\n",
    "    resultat_grandmaster.append(\n",
    "        Winrate(\n",
    "            rank,\n",
    "            champion,\n",
    "            winrate,\n",
    "            int(nb_game.replace(\"\\u202f\", \"\")),\n",
    "            float(kd_rate),\n",
    "            float(nb_kill_mobs),\n",
    "            int(gold.replace(\"\\u202f\", \"\"))\n",
    "        )\n",
    "    )"
   ]
  },
  {
   "cell_type": "code",
   "execution_count": 16,
   "metadata": {},
   "outputs": [],
   "source": [
    "df_grandmaster = pd.DataFrame([result.__dict__ for result in resultat_grandmaster])"
   ]
  },
  {
   "cell_type": "code",
   "execution_count": 17,
   "metadata": {},
   "outputs": [],
   "source": [
    "df_grandmaster.to_csv(\"stat_grandmaster.csv\")"
   ]
  },
  {
   "cell_type": "markdown",
   "metadata": {},
   "source": [
    "## Classement Winrate par Perso en ligue Challenger"
   ]
  },
  {
   "cell_type": "code",
   "execution_count": 18,
   "metadata": {},
   "outputs": [],
   "source": [
    "with open(\"backup_stat_challenger.html\", 'rb') as fichier: \n",
    "    soupe = BeautifulSoup(fichier, \"lxml\")"
   ]
  },
  {
   "cell_type": "code",
   "execution_count": 19,
   "metadata": {},
   "outputs": [],
   "source": [
    "texte = soupe.text"
   ]
  },
  {
   "cell_type": "code",
   "execution_count": 20,
   "metadata": {},
   "outputs": [],
   "source": [
    "ma_table = soupe.find(\"table\", attrs = {\"class\": \"css-1hhfha5 e1tq06rp1\"})"
   ]
  },
  {
   "cell_type": "code",
   "execution_count": 21,
   "metadata": {},
   "outputs": [],
   "source": [
    "lignes = ma_table.tbody.find_all(\"tr\")"
   ]
  },
  {
   "cell_type": "code",
   "execution_count": 22,
   "metadata": {},
   "outputs": [],
   "source": [
    "resultat_challenger = list()\n",
    "for ligne in lignes:\n",
    "    rank, image, champion, winrate, nb_game, kd_rate, nb_kill_mobs, gold = ligne.find_all(\"td\")\n",
    "    rank, *_ = rank.strings\n",
    "    champion, *_ = champion.strings\n",
    "    winrate, *_ = winrate.strings\n",
    "    nb_game, = nb_game.strings\n",
    "    kd_rate, *_ = kd_rate.strings\n",
    "    nb_kill_mobs, *_ = nb_kill_mobs.strings\n",
    "    gold, *_ = gold.strings\n",
    "\n",
    "    resultat_challenger.append(\n",
    "        Winrate(\n",
    "            rank,\n",
    "            champion,\n",
    "            winrate,\n",
    "            int(nb_game.replace(\"\\u202f\", \"\")),\n",
    "            float(kd_rate),\n",
    "            float(nb_kill_mobs),\n",
    "            int(gold.replace(\"\\u202f\", \"\"))\n",
    "        )\n",
    "    )"
   ]
  },
  {
   "cell_type": "code",
   "execution_count": 23,
   "metadata": {},
   "outputs": [],
   "source": [
    "df_challenger = pd.DataFrame([result.__dict__ for result in resultat_challenger])"
   ]
  },
  {
   "cell_type": "code",
   "execution_count": 24,
   "metadata": {},
   "outputs": [],
   "source": [
    "df_challenger.to_csv(\"stat_challenger.csv\")"
   ]
  },
  {
   "cell_type": "markdown",
   "metadata": {},
   "source": [
    "## Classement Pickrate par Perso"
   ]
  },
  {
   "cell_type": "code",
   "execution_count": 25,
   "metadata": {},
   "outputs": [],
   "source": [
    "@dataclass\n",
    "class Pickrate:\n",
    "    def __init__(self, rank, champion, winrate):\n",
    "        self.rank, self.champion, self.winrate = rank, champion, winrate\n",
    "\n",
    "    rank: str\n",
    "    champion: str\n",
    "    winrate: str"
   ]
  },
  {
   "cell_type": "code",
   "execution_count": 26,
   "metadata": {},
   "outputs": [],
   "source": [
    "with open(\"backup_stat_pickrate.html\", 'rb') as fichier: \n",
    "    soupe = BeautifulSoup(fichier, \"lxml\")"
   ]
  },
  {
   "cell_type": "code",
   "execution_count": 27,
   "metadata": {},
   "outputs": [],
   "source": [
    "texte = soupe.text"
   ]
  },
  {
   "cell_type": "code",
   "execution_count": 28,
   "metadata": {},
   "outputs": [],
   "source": [
    "ma_table = soupe.find(\"table\", attrs = {\"class\": \"css-1hhfha5 e1tq06rp1\"})"
   ]
  },
  {
   "cell_type": "code",
   "execution_count": 29,
   "metadata": {},
   "outputs": [],
   "source": [
    "lignes = ma_table.tbody.find_all(\"tr\")"
   ]
  },
  {
   "cell_type": "code",
   "execution_count": 30,
   "metadata": {},
   "outputs": [],
   "source": [
    "resultat_pickrate = list()\n",
    "for ligne in lignes:\n",
    "    rank, image, champion, winrate = ligne.find_all(\"td\")\n",
    "    rank, *_ = rank.strings\n",
    "    champion, *_ = champion.strings\n",
    "    winrate, *_ = winrate.strings\n",
    "\n",
    "    resultat_pickrate.append(\n",
    "        Pickrate(\n",
    "            rank,\n",
    "            champion,\n",
    "            winrate\n",
    "        )\n",
    "    )"
   ]
  },
  {
   "cell_type": "code",
   "execution_count": 31,
   "metadata": {},
   "outputs": [],
   "source": [
    "df_pickrate = pd.DataFrame([result.__dict__ for result in resultat_pickrate])"
   ]
  },
  {
   "cell_type": "code",
   "execution_count": 32,
   "metadata": {},
   "outputs": [],
   "source": [
    "df_pickrate.to_csv(\"stat_pickrate.csv\")"
   ]
  },
  {
   "cell_type": "markdown",
   "metadata": {},
   "source": [
    "## Classement Banrate par Perso"
   ]
  },
  {
   "cell_type": "code",
   "execution_count": 33,
   "metadata": {},
   "outputs": [],
   "source": [
    "@dataclass\n",
    "class Banrate:\n",
    "    def __init__(self, rank, champion, banrate):\n",
    "        self.rank, self.champion, self.banrate = rank, champion, banrate\n",
    "\n",
    "    rank: str\n",
    "    champion: str\n",
    "    banrate: str"
   ]
  },
  {
   "cell_type": "code",
   "execution_count": 34,
   "metadata": {},
   "outputs": [],
   "source": [
    "with open(\"backup_stat_banrate.html\", 'rb') as fichier: \n",
    "    soupe = BeautifulSoup(fichier, \"lxml\")"
   ]
  },
  {
   "cell_type": "code",
   "execution_count": 35,
   "metadata": {},
   "outputs": [],
   "source": [
    "texte = soupe.text"
   ]
  },
  {
   "cell_type": "code",
   "execution_count": 36,
   "metadata": {},
   "outputs": [],
   "source": [
    "ma_table = soupe.find(\"table\", attrs = {\"class\": \"css-1hhfha5 e1tq06rp1\"})"
   ]
  },
  {
   "cell_type": "code",
   "execution_count": 37,
   "metadata": {},
   "outputs": [],
   "source": [
    "lignes = ma_table.tbody.find_all(\"tr\")"
   ]
  },
  {
   "cell_type": "code",
   "execution_count": 38,
   "metadata": {},
   "outputs": [],
   "source": [
    "resultat_banrate = list()\n",
    "for ligne in lignes:\n",
    "    rank, image, champion, banrate = ligne.find_all(\"td\")\n",
    "    rank, *_ = rank.strings\n",
    "    champion, *_ = champion.strings\n",
    "    banrate, *_ = banrate.strings\n",
    "\n",
    "    resultat_banrate.append(\n",
    "        Banrate(\n",
    "            rank,\n",
    "            champion,\n",
    "            banrate\n",
    "        )\n",
    "    )"
   ]
  },
  {
   "cell_type": "code",
   "execution_count": 39,
   "metadata": {},
   "outputs": [],
   "source": [
    "df_banrate = pd.DataFrame([result.__dict__ for result in resultat_banrate])"
   ]
  },
  {
   "cell_type": "code",
   "execution_count": 40,
   "metadata": {},
   "outputs": [],
   "source": [
    "df_banrate.to_csv(\"stat_banrate.csv\")"
   ]
  }
 ],
 "metadata": {
  "interpreter": {
   "hash": "1bbd787d3b252b5bc24e3def9daa38c7ced62b15e0ee72365505102b332fc7ee"
  },
  "kernelspec": {
   "display_name": "Python 3.9.7 64-bit",
   "language": "python",
   "name": "python3"
  },
  "language_info": {
   "codemirror_mode": {
    "name": "ipython",
    "version": 3
   },
   "file_extension": ".py",
   "mimetype": "text/x-python",
   "name": "python",
   "nbconvert_exporter": "python",
   "pygments_lexer": "ipython3",
   "version": "3.9.7"
  },
  "orig_nbformat": 4
 },
 "nbformat": 4,
 "nbformat_minor": 2
}
